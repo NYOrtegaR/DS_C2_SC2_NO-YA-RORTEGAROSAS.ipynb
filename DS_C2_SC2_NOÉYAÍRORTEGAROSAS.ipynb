{
  "nbformat": 4,
  "nbformat_minor": 0,
  "metadata": {
    "colab": {
      "provenance": [],
      "authorship_tag": "ABX9TyNjaBIOlkbdkgGstGgfgv4c",
      "include_colab_link": true
    },
    "kernelspec": {
      "name": "python3",
      "display_name": "Python 3"
    },
    "language_info": {
      "name": "python"
    }
  },
  "cells": [
    {
      "cell_type": "markdown",
      "metadata": {
        "id": "view-in-github",
        "colab_type": "text"
      },
      "source": [
        "<a href=\"https://colab.research.google.com/github/NYOrtegaR/DS_C2_SC2_NO-YA-RORTEGAROSAS.ipynb/blob/main/DS_C2_SC2_NO%C3%89YA%C3%8DRORTEGAROSAS.ipynb\" target=\"_parent\"><img src=\"https://colab.research.google.com/assets/colab-badge.svg\" alt=\"Open In Colab\"/></a>"
      ]
    },
    {
      "cell_type": "code",
      "execution_count": null,
      "metadata": {
        "colab": {
          "base_uri": "https://localhost:8080/"
        },
        "id": "npkimq69BQDG",
        "outputId": "799b197a-fc27-4437-b797-26dd08b850a5"
      },
      "outputs": [
        {
          "output_type": "stream",
          "name": "stdout",
          "text": [
            "           country iso_code        date  total_vaccinations  \\\n",
            "0      Afghanistan      AFG  2021-02-22                 0.0   \n",
            "1      Afghanistan      AFG  2021-02-23                 NaN   \n",
            "2      Afghanistan      AFG  2021-02-24                 NaN   \n",
            "3      Afghanistan      AFG  2021-02-25                 NaN   \n",
            "4      Afghanistan      AFG  2021-02-26                 NaN   \n",
            "...            ...      ...         ...                 ...   \n",
            "86507     Zimbabwe      ZWE  2022-03-25           8691642.0   \n",
            "86508     Zimbabwe      ZWE  2022-03-26           8791728.0   \n",
            "86509     Zimbabwe      ZWE  2022-03-27           8845039.0   \n",
            "86510     Zimbabwe      ZWE  2022-03-28           8934360.0   \n",
            "86511     Zimbabwe      ZWE  2022-03-29           9039729.0   \n",
            "\n",
            "       people_vaccinated  people_fully_vaccinated  daily_vaccinations_raw  \\\n",
            "0                    0.0                      NaN                     NaN   \n",
            "1                    NaN                      NaN                     NaN   \n",
            "2                    NaN                      NaN                     NaN   \n",
            "3                    NaN                      NaN                     NaN   \n",
            "4                    NaN                      NaN                     NaN   \n",
            "...                  ...                      ...                     ...   \n",
            "86507          4814582.0                3473523.0                139213.0   \n",
            "86508          4886242.0                3487962.0                100086.0   \n",
            "86509          4918147.0                3493763.0                 53311.0   \n",
            "86510          4975433.0                3501493.0                 89321.0   \n",
            "86511          5053114.0                3510256.0                105369.0   \n",
            "\n",
            "       daily_vaccinations  total_vaccinations_per_hundred  \\\n",
            "0                     NaN                            0.00   \n",
            "1                  1367.0                             NaN   \n",
            "2                  1367.0                             NaN   \n",
            "3                  1367.0                             NaN   \n",
            "4                  1367.0                             NaN   \n",
            "...                   ...                             ...   \n",
            "86507             69579.0                           57.59   \n",
            "86508             83429.0                           58.25   \n",
            "86509             90629.0                           58.61   \n",
            "86510            100614.0                           59.20   \n",
            "86511            103751.0                           59.90   \n",
            "\n",
            "       people_vaccinated_per_hundred  people_fully_vaccinated_per_hundred  \\\n",
            "0                               0.00                                  NaN   \n",
            "1                                NaN                                  NaN   \n",
            "2                                NaN                                  NaN   \n",
            "3                                NaN                                  NaN   \n",
            "4                                NaN                                  NaN   \n",
            "...                              ...                                  ...   \n",
            "86507                          31.90                                23.02   \n",
            "86508                          32.38                                23.11   \n",
            "86509                          32.59                                23.15   \n",
            "86510                          32.97                                23.20   \n",
            "86511                          33.48                                23.26   \n",
            "\n",
            "       daily_vaccinations_per_million  \\\n",
            "0                                 NaN   \n",
            "1                                34.0   \n",
            "2                                34.0   \n",
            "3                                34.0   \n",
            "4                                34.0   \n",
            "...                               ...   \n",
            "86507                          4610.0   \n",
            "86508                          5528.0   \n",
            "86509                          6005.0   \n",
            "86510                          6667.0   \n",
            "86511                          6874.0   \n",
            "\n",
            "                                                vaccines  \\\n",
            "0      Johnson&Johnson, Oxford/AstraZeneca, Pfizer/Bi...   \n",
            "1      Johnson&Johnson, Oxford/AstraZeneca, Pfizer/Bi...   \n",
            "2      Johnson&Johnson, Oxford/AstraZeneca, Pfizer/Bi...   \n",
            "3      Johnson&Johnson, Oxford/AstraZeneca, Pfizer/Bi...   \n",
            "4      Johnson&Johnson, Oxford/AstraZeneca, Pfizer/Bi...   \n",
            "...                                                  ...   \n",
            "86507  Oxford/AstraZeneca, Sinopharm/Beijing, Sinovac...   \n",
            "86508  Oxford/AstraZeneca, Sinopharm/Beijing, Sinovac...   \n",
            "86509  Oxford/AstraZeneca, Sinopharm/Beijing, Sinovac...   \n",
            "86510  Oxford/AstraZeneca, Sinopharm/Beijing, Sinovac...   \n",
            "86511  Oxford/AstraZeneca, Sinopharm/Beijing, Sinovac...   \n",
            "\n",
            "                     source_name  \\\n",
            "0      World Health Organization   \n",
            "1      World Health Organization   \n",
            "2      World Health Organization   \n",
            "3      World Health Organization   \n",
            "4      World Health Organization   \n",
            "...                          ...   \n",
            "86507         Ministry of Health   \n",
            "86508         Ministry of Health   \n",
            "86509         Ministry of Health   \n",
            "86510         Ministry of Health   \n",
            "86511         Ministry of Health   \n",
            "\n",
            "                                          source_website  \n",
            "0                               https://covid19.who.int/  \n",
            "1                               https://covid19.who.int/  \n",
            "2                               https://covid19.who.int/  \n",
            "3                               https://covid19.who.int/  \n",
            "4                               https://covid19.who.int/  \n",
            "...                                                  ...  \n",
            "86507  https://www.arcgis.com/home/webmap/viewer.html...  \n",
            "86508  https://www.arcgis.com/home/webmap/viewer.html...  \n",
            "86509  https://www.arcgis.com/home/webmap/viewer.html...  \n",
            "86510  https://www.arcgis.com/home/webmap/viewer.html...  \n",
            "86511  https://www.arcgis.com/home/webmap/viewer.html...  \n",
            "\n",
            "[86512 rows x 15 columns]\n"
          ]
        }
      ],
      "source": [
        "#Importar\n",
        "\n",
        "import numpy as np\n",
        "\n",
        "import pandas as pd\n",
        "\n",
        "# a. Extraer la información del archivo.\n",
        "\n",
        "country_vaccinations=pd.read_csv('content/country_vaccinations.csv')\n",
        "print(f\"{country_vaccinations}\")"
      ]
    },
    {
      "cell_type": "code",
      "source": [
        "# b. Mostrar la estructura y tipos de datos de cada columna para identificar qué operaciones puedes realizar con cada una de ellas, asegurándote que las columnas con fechas sean del tipo datetime64.\n",
        "\n",
        "country_vaccinations['date']=pd.to_datetime(country_vaccinations['date'])\n",
        "country_vaccinations.info()"
      ],
      "metadata": {
        "colab": {
          "base_uri": "https://localhost:8080/"
        },
        "id": "PFdN6Jp4CPYy",
        "outputId": "e9ed0017-4b9c-4c8b-f1a2-969a8119c570"
      },
      "execution_count": null,
      "outputs": [
        {
          "output_type": "stream",
          "name": "stdout",
          "text": [
            "<class 'pandas.core.frame.DataFrame'>\n",
            "RangeIndex: 86512 entries, 0 to 86511\n",
            "Data columns (total 15 columns):\n",
            " #   Column                               Non-Null Count  Dtype         \n",
            "---  ------                               --------------  -----         \n",
            " 0   country                              86512 non-null  object        \n",
            " 1   iso_code                             86512 non-null  object        \n",
            " 2   date                                 86512 non-null  datetime64[ns]\n",
            " 3   total_vaccinations                   43607 non-null  float64       \n",
            " 4   people_vaccinated                    41294 non-null  float64       \n",
            " 5   people_fully_vaccinated              38802 non-null  float64       \n",
            " 6   daily_vaccinations_raw               35362 non-null  float64       \n",
            " 7   daily_vaccinations                   86213 non-null  float64       \n",
            " 8   total_vaccinations_per_hundred       43607 non-null  float64       \n",
            " 9   people_vaccinated_per_hundred        41294 non-null  float64       \n",
            " 10  people_fully_vaccinated_per_hundred  38802 non-null  float64       \n",
            " 11  daily_vaccinations_per_million       86213 non-null  float64       \n",
            " 12  vaccines                             86512 non-null  object        \n",
            " 13  source_name                          86512 non-null  object        \n",
            " 14  source_website                       86512 non-null  object        \n",
            "dtypes: datetime64[ns](1), float64(9), object(5)\n",
            "memory usage: 9.9+ MB\n"
          ]
        }
      ]
    },
    {
      "cell_type": "code",
      "source": [
        "#c. Determinar la cantidad de vacunas aplicadas de cada compañía (con base en cómo lo reporta cada país en la columna vaccines, en otras palabras, agrupe por vaccines y realice la sumatoria).\n",
        "\n",
        "cantidad_vacunas = np.concatenate(country_vaccinations['vaccines'].str.split(', '))\n",
        "cantidad_vacunas = pd.Series(cantidad_vacunas).value_counts()\n",
        "print(f\"{cantidad_vacunas}\")"
      ],
      "metadata": {
        "colab": {
          "base_uri": "https://localhost:8080/"
        },
        "id": "VGC1rOq9Ci5T",
        "outputId": "a52c4201-9dfa-4cbe-9138-04cc6c503cc6"
      },
      "execution_count": null,
      "outputs": [
        {
          "output_type": "stream",
          "name": "stdout",
          "text": [
            "Oxford/AstraZeneca    71331\n",
            "Pfizer/BioNTech       64193\n",
            "Moderna               37417\n",
            "Johnson&Johnson       35949\n",
            "Sinopharm/Beijing     34638\n",
            "Sputnik V             23060\n",
            "Sinovac               19892\n",
            "Novavax                4935\n",
            "Covaxin                3435\n",
            "Sputnik Light          3116\n",
            "CanSino                3073\n",
            "Soberana02             1527\n",
            "Abdala                 1493\n",
            "ZF2001                 1008\n",
            "Sinopharm/Wuhan         919\n",
            "EpiVacCorona            660\n",
            "QazVac                  613\n",
            "Turkovac                441\n",
            "COVIran Barekat         415\n",
            "FAKHRAVAC               415\n",
            "Razi Cov Pars           415\n",
            "SpikoGen                415\n",
            "Medigen                 374\n",
            "Soberana Plus           320\n",
            "dtype: int64\n"
          ]
        }
      ]
    },
    {
      "cell_type": "code",
      "source": [
        "# d. Obtener la cantidad de vacunas aplicadas en todo el mundo.\n",
        "\n",
        "vacunas_todoelmundo = int(np.sum(df_cv['total_vaccinations']))\n",
        "print(f\"Se han aplicado {vacunas_todoelmundo:,} en todo el mundo\")"
      ],
      "metadata": {
        "colab": {
          "base_uri": "https://localhost:8080/"
        },
        "id": "1m8pEvQtDRz2",
        "outputId": "2a5f1c11-fea1-49b6-ae4b-6172ab3790ce"
      },
      "execution_count": null,
      "outputs": [
        {
          "output_type": "stream",
          "name": "stdout",
          "text": [
            "Se han aplicado 2,002,854,013,761 en todo el mundo\n"
          ]
        }
      ]
    },
    {
      "cell_type": "code",
      "source": [
        "# e. Calcular el promedio de vacunas aplicadas por país.\n",
        "\n",
        "promedioxpais = country_vaccinations.groupby('country')['total_vaccinations'].sum()\n",
        "print(f\"{promedioxpais}\")"
      ],
      "metadata": {
        "colab": {
          "base_uri": "https://localhost:8080/"
        },
        "id": "LXM4O4eWD8k0",
        "outputId": "3a018981-7f36-4885-c4dc-4276f10267e6"
      },
      "execution_count": null,
      "outputs": [
        {
          "output_type": "stream",
          "name": "stdout",
          "text": [
            "country\n",
            "Afghanistan          1.180414e+08\n",
            "Albania              2.955405e+08\n",
            "Algeria              2.389461e+08\n",
            "Andorra              2.447643e+06\n",
            "Angola               3.887402e+08\n",
            "                         ...     \n",
            "Wales                1.810193e+09\n",
            "Wallis and Futuna    3.657170e+05\n",
            "Yemen                1.054691e+07\n",
            "Zambia               2.023574e+08\n",
            "Zimbabwe             1.589015e+09\n",
            "Name: total_vaccinations, Length: 223, dtype: float64\n"
          ]
        }
      ]
    },
    {
      "cell_type": "code",
      "source": [
        "# f. Determinar la cantidad de vacunas aplicadas el día 29/01/21 en todo el mundo.\n",
        "\n",
        "aplicadas = int(country_vaccinations[country_vaccinations['date'] == '2021-01-29']['total_vaccinations'].sum())\n",
        "print(f\"Se aplicaron {aplicadas:,} vacunas el 2021-01-29\")"
      ],
      "metadata": {
        "colab": {
          "base_uri": "https://localhost:8080/"
        },
        "id": "2GhroNEFEsHX",
        "outputId": "43eae520-5056-4c00-ebe6-8b0257b6dc0d"
      },
      "execution_count": null,
      "outputs": [
        {
          "output_type": "stream",
          "name": "stdout",
          "text": [
            "Se aplicaron 82,952,931 vacunas el 2021-01-29\n"
          ]
        }
      ]
    },
    {
      "cell_type": "code",
      "source": [
        "# g. Crear un dataframe nuevo denominado conDiferencias que contenga los datos originales y una columna derivada (diferencias) con las diferencias de aplicación entre las columnas daily_vaccionations y daily_vaccionations_raw.\n",
        "\n",
        "conDiferencias = pd.DataFrame(country_vaccinations)\n",
        "conDiferencias = conDiferencias.assign(diferencias = conDiferencias['daily_vaccinations'] - conDiferencias['daily_vaccinations_raw'])\n",
        "print(conDiferencias)"
      ],
      "metadata": {
        "colab": {
          "base_uri": "https://localhost:8080/"
        },
        "id": "oWTJx306FMor",
        "outputId": "8e1de111-861a-4002-8ad9-156b4a3a7ec0"
      },
      "execution_count": null,
      "outputs": [
        {
          "output_type": "stream",
          "name": "stdout",
          "text": [
            "           country iso_code       date  total_vaccinations  people_vaccinated  \\\n",
            "0      Afghanistan      AFG 2021-02-22                 0.0                0.0   \n",
            "1      Afghanistan      AFG 2021-02-23                 NaN                NaN   \n",
            "2      Afghanistan      AFG 2021-02-24                 NaN                NaN   \n",
            "3      Afghanistan      AFG 2021-02-25                 NaN                NaN   \n",
            "4      Afghanistan      AFG 2021-02-26                 NaN                NaN   \n",
            "...            ...      ...        ...                 ...                ...   \n",
            "86507     Zimbabwe      ZWE 2022-03-25           8691642.0          4814582.0   \n",
            "86508     Zimbabwe      ZWE 2022-03-26           8791728.0          4886242.0   \n",
            "86509     Zimbabwe      ZWE 2022-03-27           8845039.0          4918147.0   \n",
            "86510     Zimbabwe      ZWE 2022-03-28           8934360.0          4975433.0   \n",
            "86511     Zimbabwe      ZWE 2022-03-29           9039729.0          5053114.0   \n",
            "\n",
            "       people_fully_vaccinated  daily_vaccinations_raw  daily_vaccinations  \\\n",
            "0                          NaN                     NaN                 NaN   \n",
            "1                          NaN                     NaN              1367.0   \n",
            "2                          NaN                     NaN              1367.0   \n",
            "3                          NaN                     NaN              1367.0   \n",
            "4                          NaN                     NaN              1367.0   \n",
            "...                        ...                     ...                 ...   \n",
            "86507                3473523.0                139213.0             69579.0   \n",
            "86508                3487962.0                100086.0             83429.0   \n",
            "86509                3493763.0                 53311.0             90629.0   \n",
            "86510                3501493.0                 89321.0            100614.0   \n",
            "86511                3510256.0                105369.0            103751.0   \n",
            "\n",
            "       total_vaccinations_per_hundred  people_vaccinated_per_hundred  \\\n",
            "0                                0.00                           0.00   \n",
            "1                                 NaN                            NaN   \n",
            "2                                 NaN                            NaN   \n",
            "3                                 NaN                            NaN   \n",
            "4                                 NaN                            NaN   \n",
            "...                               ...                            ...   \n",
            "86507                           57.59                          31.90   \n",
            "86508                           58.25                          32.38   \n",
            "86509                           58.61                          32.59   \n",
            "86510                           59.20                          32.97   \n",
            "86511                           59.90                          33.48   \n",
            "\n",
            "       people_fully_vaccinated_per_hundred  daily_vaccinations_per_million  \\\n",
            "0                                      NaN                             NaN   \n",
            "1                                      NaN                            34.0   \n",
            "2                                      NaN                            34.0   \n",
            "3                                      NaN                            34.0   \n",
            "4                                      NaN                            34.0   \n",
            "...                                    ...                             ...   \n",
            "86507                                23.02                          4610.0   \n",
            "86508                                23.11                          5528.0   \n",
            "86509                                23.15                          6005.0   \n",
            "86510                                23.20                          6667.0   \n",
            "86511                                23.26                          6874.0   \n",
            "\n",
            "                                                vaccines  \\\n",
            "0      Johnson&Johnson, Oxford/AstraZeneca, Pfizer/Bi...   \n",
            "1      Johnson&Johnson, Oxford/AstraZeneca, Pfizer/Bi...   \n",
            "2      Johnson&Johnson, Oxford/AstraZeneca, Pfizer/Bi...   \n",
            "3      Johnson&Johnson, Oxford/AstraZeneca, Pfizer/Bi...   \n",
            "4      Johnson&Johnson, Oxford/AstraZeneca, Pfizer/Bi...   \n",
            "...                                                  ...   \n",
            "86507  Oxford/AstraZeneca, Sinopharm/Beijing, Sinovac...   \n",
            "86508  Oxford/AstraZeneca, Sinopharm/Beijing, Sinovac...   \n",
            "86509  Oxford/AstraZeneca, Sinopharm/Beijing, Sinovac...   \n",
            "86510  Oxford/AstraZeneca, Sinopharm/Beijing, Sinovac...   \n",
            "86511  Oxford/AstraZeneca, Sinopharm/Beijing, Sinovac...   \n",
            "\n",
            "                     source_name  \\\n",
            "0      World Health Organization   \n",
            "1      World Health Organization   \n",
            "2      World Health Organization   \n",
            "3      World Health Organization   \n",
            "4      World Health Organization   \n",
            "...                          ...   \n",
            "86507         Ministry of Health   \n",
            "86508         Ministry of Health   \n",
            "86509         Ministry of Health   \n",
            "86510         Ministry of Health   \n",
            "86511         Ministry of Health   \n",
            "\n",
            "                                          source_website  diferencias  \n",
            "0                               https://covid19.who.int/          NaN  \n",
            "1                               https://covid19.who.int/          NaN  \n",
            "2                               https://covid19.who.int/          NaN  \n",
            "3                               https://covid19.who.int/          NaN  \n",
            "4                               https://covid19.who.int/          NaN  \n",
            "...                                                  ...          ...  \n",
            "86507  https://www.arcgis.com/home/webmap/viewer.html...     -69634.0  \n",
            "86508  https://www.arcgis.com/home/webmap/viewer.html...     -16657.0  \n",
            "86509  https://www.arcgis.com/home/webmap/viewer.html...      37318.0  \n",
            "86510  https://www.arcgis.com/home/webmap/viewer.html...      11293.0  \n",
            "86511  https://www.arcgis.com/home/webmap/viewer.html...      -1618.0  \n",
            "\n",
            "[86512 rows x 16 columns]\n"
          ]
        }
      ]
    },
    {
      "cell_type": "code",
      "source": [
        "# h. Obtener el periodo de tiempo entre el registro con fecha más reciente y el registro con fecha más antigua.\n",
        "\n",
        "fecha1 = country_vaccinations['date'].max()\n",
        "fecha2 = country_vaccinations['date'].min()\n",
        "\n",
        "\n",
        "rango = fecha2 - fecha1\n",
        "\n",
        "print(f\"El periodo es {rango}\")"
      ],
      "metadata": {
        "colab": {
          "base_uri": "https://localhost:8080/"
        },
        "id": "3IT8ilKRF54l",
        "outputId": "184fa034-76bb-407b-9ce6-ae8c3dfb61ca"
      },
      "execution_count": null,
      "outputs": [
        {
          "output_type": "stream",
          "name": "stdout",
          "text": [
            "El periodo es -482 days +00:00:00\n"
          ]
        }
      ]
    },
    {
      "cell_type": "code",
      "source": [
        "# i. Crear un dataframe nuevo denominado conCantidad que contenga los datos originales y una columna derivada (canVac) con la cantidad de vacunas utilizadas cada día (usar la columna vaccines y separar por el carácter , ).\n",
        "\n",
        "conCantidad = pd.DataFrame(country_vaccinations).copy()\n",
        "conCantidad['canVac'] = conCantidad['vaccines'].str.split(',').apply(len)\n",
        "print(conCantidad)"
      ],
      "metadata": {
        "colab": {
          "base_uri": "https://localhost:8080/"
        },
        "id": "Zgu1mLZ6HNRA",
        "outputId": "e2827b78-2180-40de-f87b-3494d6875fd1"
      },
      "execution_count": null,
      "outputs": [
        {
          "output_type": "stream",
          "name": "stdout",
          "text": [
            "           country iso_code       date  total_vaccinations  people_vaccinated  \\\n",
            "0      Afghanistan      AFG 2021-02-22                 0.0                0.0   \n",
            "1      Afghanistan      AFG 2021-02-23                 NaN                NaN   \n",
            "2      Afghanistan      AFG 2021-02-24                 NaN                NaN   \n",
            "3      Afghanistan      AFG 2021-02-25                 NaN                NaN   \n",
            "4      Afghanistan      AFG 2021-02-26                 NaN                NaN   \n",
            "...            ...      ...        ...                 ...                ...   \n",
            "86507     Zimbabwe      ZWE 2022-03-25           8691642.0          4814582.0   \n",
            "86508     Zimbabwe      ZWE 2022-03-26           8791728.0          4886242.0   \n",
            "86509     Zimbabwe      ZWE 2022-03-27           8845039.0          4918147.0   \n",
            "86510     Zimbabwe      ZWE 2022-03-28           8934360.0          4975433.0   \n",
            "86511     Zimbabwe      ZWE 2022-03-29           9039729.0          5053114.0   \n",
            "\n",
            "       people_fully_vaccinated  daily_vaccinations_raw  daily_vaccinations  \\\n",
            "0                          NaN                     NaN                 NaN   \n",
            "1                          NaN                     NaN              1367.0   \n",
            "2                          NaN                     NaN              1367.0   \n",
            "3                          NaN                     NaN              1367.0   \n",
            "4                          NaN                     NaN              1367.0   \n",
            "...                        ...                     ...                 ...   \n",
            "86507                3473523.0                139213.0             69579.0   \n",
            "86508                3487962.0                100086.0             83429.0   \n",
            "86509                3493763.0                 53311.0             90629.0   \n",
            "86510                3501493.0                 89321.0            100614.0   \n",
            "86511                3510256.0                105369.0            103751.0   \n",
            "\n",
            "       total_vaccinations_per_hundred  people_vaccinated_per_hundred  \\\n",
            "0                                0.00                           0.00   \n",
            "1                                 NaN                            NaN   \n",
            "2                                 NaN                            NaN   \n",
            "3                                 NaN                            NaN   \n",
            "4                                 NaN                            NaN   \n",
            "...                               ...                            ...   \n",
            "86507                           57.59                          31.90   \n",
            "86508                           58.25                          32.38   \n",
            "86509                           58.61                          32.59   \n",
            "86510                           59.20                          32.97   \n",
            "86511                           59.90                          33.48   \n",
            "\n",
            "       people_fully_vaccinated_per_hundred  daily_vaccinations_per_million  \\\n",
            "0                                      NaN                             NaN   \n",
            "1                                      NaN                            34.0   \n",
            "2                                      NaN                            34.0   \n",
            "3                                      NaN                            34.0   \n",
            "4                                      NaN                            34.0   \n",
            "...                                    ...                             ...   \n",
            "86507                                23.02                          4610.0   \n",
            "86508                                23.11                          5528.0   \n",
            "86509                                23.15                          6005.0   \n",
            "86510                                23.20                          6667.0   \n",
            "86511                                23.26                          6874.0   \n",
            "\n",
            "                                                vaccines  \\\n",
            "0      Johnson&Johnson, Oxford/AstraZeneca, Pfizer/Bi...   \n",
            "1      Johnson&Johnson, Oxford/AstraZeneca, Pfizer/Bi...   \n",
            "2      Johnson&Johnson, Oxford/AstraZeneca, Pfizer/Bi...   \n",
            "3      Johnson&Johnson, Oxford/AstraZeneca, Pfizer/Bi...   \n",
            "4      Johnson&Johnson, Oxford/AstraZeneca, Pfizer/Bi...   \n",
            "...                                                  ...   \n",
            "86507  Oxford/AstraZeneca, Sinopharm/Beijing, Sinovac...   \n",
            "86508  Oxford/AstraZeneca, Sinopharm/Beijing, Sinovac...   \n",
            "86509  Oxford/AstraZeneca, Sinopharm/Beijing, Sinovac...   \n",
            "86510  Oxford/AstraZeneca, Sinopharm/Beijing, Sinovac...   \n",
            "86511  Oxford/AstraZeneca, Sinopharm/Beijing, Sinovac...   \n",
            "\n",
            "                     source_name  \\\n",
            "0      World Health Organization   \n",
            "1      World Health Organization   \n",
            "2      World Health Organization   \n",
            "3      World Health Organization   \n",
            "4      World Health Organization   \n",
            "...                          ...   \n",
            "86507         Ministry of Health   \n",
            "86508         Ministry of Health   \n",
            "86509         Ministry of Health   \n",
            "86510         Ministry of Health   \n",
            "86511         Ministry of Health   \n",
            "\n",
            "                                          source_website  canVac  \n",
            "0                               https://covid19.who.int/       4  \n",
            "1                               https://covid19.who.int/       4  \n",
            "2                               https://covid19.who.int/       4  \n",
            "3                               https://covid19.who.int/       4  \n",
            "4                               https://covid19.who.int/       4  \n",
            "...                                                  ...     ...  \n",
            "86507  https://www.arcgis.com/home/webmap/viewer.html...       4  \n",
            "86508  https://www.arcgis.com/home/webmap/viewer.html...       4  \n",
            "86509  https://www.arcgis.com/home/webmap/viewer.html...       4  \n",
            "86510  https://www.arcgis.com/home/webmap/viewer.html...       4  \n",
            "86511  https://www.arcgis.com/home/webmap/viewer.html...       4  \n",
            "\n",
            "[86512 rows x 16 columns]\n"
          ]
        }
      ]
    },
    {
      "cell_type": "code",
      "source": [
        "# j. Generar un dataframe denominado antes20 con todos los registros que se hayan realizado antes del 20 de diciembre de 2020.\n",
        "\n",
        "antes20 = country_vaccinations.query(\"date < '2020-12-20'\")\n",
        "print(antes20)"
      ],
      "metadata": {
        "colab": {
          "base_uri": "https://localhost:8080/"
        },
        "id": "sJS7nh4dHnpr",
        "outputId": "0ded9e58-fe40-4341-dd9e-660520fa31a2"
      },
      "execution_count": null,
      "outputs": [
        {
          "output_type": "stream",
          "name": "stdout",
          "text": [
            "             country iso_code       date  total_vaccinations  \\\n",
            "13403         Canada      CAN 2020-12-14                 5.0   \n",
            "13404         Canada      CAN 2020-12-15               727.0   \n",
            "13405         Canada      CAN 2020-12-16              3025.0   \n",
            "13406         Canada      CAN 2020-12-17              7279.0   \n",
            "13407         Canada      CAN 2020-12-18             11296.0   \n",
            "...              ...      ...        ...                 ...   \n",
            "82362  United States      USA 2020-12-15             84638.0   \n",
            "82363  United States      USA 2020-12-16            244549.0   \n",
            "82364  United States      USA 2020-12-17            517161.0   \n",
            "82365  United States      USA 2020-12-18            933551.0   \n",
            "82366  United States      USA 2020-12-19           1115437.0   \n",
            "\n",
            "       people_vaccinated  people_fully_vaccinated  daily_vaccinations_raw  \\\n",
            "13403                5.0                      NaN                     NaN   \n",
            "13404              727.0                      NaN                   722.0   \n",
            "13405             3025.0                      NaN                  2298.0   \n",
            "13406             7279.0                      NaN                  4254.0   \n",
            "13407            11296.0                      NaN                  4017.0   \n",
            "...                  ...                      ...                     ...   \n",
            "82362            76984.0                   6281.0                 49771.0   \n",
            "82363           231496.0                   6757.0                159911.0   \n",
            "82364           496980.0                   7507.0                272612.0   \n",
            "82365           904656.0                   8718.0                416390.0   \n",
            "82366          1082608.0                   9778.0                181886.0   \n",
            "\n",
            "       daily_vaccinations  total_vaccinations_per_hundred  \\\n",
            "13403                 NaN                            0.00   \n",
            "13404               722.0                            0.00   \n",
            "13405              1510.0                            0.01   \n",
            "13406              2425.0                            0.02   \n",
            "13407              2823.0                            0.03   \n",
            "...                   ...                             ...   \n",
            "82362             27175.0                            0.03   \n",
            "82363             71420.0                            0.07   \n",
            "82364            121718.0                            0.16   \n",
            "82365            180653.0                            0.28   \n",
            "82366            180858.0                            0.34   \n",
            "\n",
            "       people_vaccinated_per_hundred  people_fully_vaccinated_per_hundred  \\\n",
            "13403                           0.00                                  NaN   \n",
            "13404                           0.00                                  NaN   \n",
            "13405                           0.01                                  NaN   \n",
            "13406                           0.02                                  NaN   \n",
            "13407                           0.03                                  NaN   \n",
            "...                              ...                                  ...   \n",
            "82362                           0.02                                  0.0   \n",
            "82363                           0.07                                  0.0   \n",
            "82364                           0.15                                  0.0   \n",
            "82365                           0.27                                  0.0   \n",
            "82366                           0.33                                  0.0   \n",
            "\n",
            "       daily_vaccinations_per_million  \\\n",
            "13403                             NaN   \n",
            "13404                            19.0   \n",
            "13405                            40.0   \n",
            "13406                            64.0   \n",
            "13407                            74.0   \n",
            "...                               ...   \n",
            "82362                            82.0   \n",
            "82363                           215.0   \n",
            "82364                           367.0   \n",
            "82365                           544.0   \n",
            "82366                           545.0   \n",
            "\n",
            "                                                vaccines  \\\n",
            "13403  Johnson&Johnson, Moderna, Oxford/AstraZeneca, ...   \n",
            "13404  Johnson&Johnson, Moderna, Oxford/AstraZeneca, ...   \n",
            "13405  Johnson&Johnson, Moderna, Oxford/AstraZeneca, ...   \n",
            "13406  Johnson&Johnson, Moderna, Oxford/AstraZeneca, ...   \n",
            "13407  Johnson&Johnson, Moderna, Oxford/AstraZeneca, ...   \n",
            "...                                                  ...   \n",
            "82362          Johnson&Johnson, Moderna, Pfizer/BioNTech   \n",
            "82363          Johnson&Johnson, Moderna, Pfizer/BioNTech   \n",
            "82364          Johnson&Johnson, Moderna, Pfizer/BioNTech   \n",
            "82365          Johnson&Johnson, Moderna, Pfizer/BioNTech   \n",
            "82366          Johnson&Johnson, Moderna, Pfizer/BioNTech   \n",
            "\n",
            "                                             source_name  \\\n",
            "13403  Official data from provinces via covid19tracke...   \n",
            "13404  Official data from provinces via covid19tracke...   \n",
            "13405  Official data from provinces via covid19tracke...   \n",
            "13406  Official data from provinces via covid19tracke...   \n",
            "13407  Official data from provinces via covid19tracke...   \n",
            "...                                                  ...   \n",
            "82362         Centers for Disease Control and Prevention   \n",
            "82363         Centers for Disease Control and Prevention   \n",
            "82364         Centers for Disease Control and Prevention   \n",
            "82365         Centers for Disease Control and Prevention   \n",
            "82366         Centers for Disease Control and Prevention   \n",
            "\n",
            "                                          source_website  \n",
            "13403  https://covid19tracker.ca/vaccinationtracker.html  \n",
            "13404  https://covid19tracker.ca/vaccinationtracker.html  \n",
            "13405  https://covid19tracker.ca/vaccinationtracker.html  \n",
            "13406  https://covid19tracker.ca/vaccinationtracker.html  \n",
            "13407  https://covid19tracker.ca/vaccinationtracker.html  \n",
            "...                                                  ...  \n",
            "82362  https://data.cdc.gov/Vaccinations/COVID-19-Vac...  \n",
            "82363  https://data.cdc.gov/Vaccinations/COVID-19-Vac...  \n",
            "82364  https://data.cdc.gov/Vaccinations/COVID-19-Vac...  \n",
            "82365  https://data.cdc.gov/Vaccinations/COVID-19-Vac...  \n",
            "82366  https://data.cdc.gov/Vaccinations/COVID-19-Vac...  \n",
            "\n",
            "[70 rows x 15 columns]\n"
          ]
        }
      ]
    },
    {
      "cell_type": "code",
      "source": [
        "# k. Obtener un dataframe denominado pfizer con todos los registros donde se haya utilizado la vacuna Pfizer.\n",
        "\n",
        "pfizer = country_vaccinations.query(\"vaccines.str.contains('Pfizer')\")\n",
        "print(pfizer)"
      ],
      "metadata": {
        "colab": {
          "base_uri": "https://localhost:8080/"
        },
        "id": "jxLKEU-HIEo0",
        "outputId": "f293d72e-b961-4f6f-9d5e-02efdba788b2"
      },
      "execution_count": null,
      "outputs": [
        {
          "output_type": "stream",
          "name": "stdout",
          "text": [
            "           country  iso_code       date  total_vaccinations  \\\n",
            "0      Afghanistan       AFG 2021-02-22                 0.0   \n",
            "1      Afghanistan       AFG 2021-02-23                 NaN   \n",
            "2      Afghanistan       AFG 2021-02-24                 NaN   \n",
            "3      Afghanistan       AFG 2021-02-25                 NaN   \n",
            "4      Afghanistan       AFG 2021-02-26                 NaN   \n",
            "...            ...       ...        ...                 ...   \n",
            "85069        Wales  OWID_WLS 2022-03-24           6921195.0   \n",
            "85070        Wales  OWID_WLS 2022-03-25           6923298.0   \n",
            "85071        Wales  OWID_WLS 2022-03-26           6923706.0   \n",
            "85072        Wales  OWID_WLS 2022-03-27           6925183.0   \n",
            "85073        Wales  OWID_WLS 2022-03-28           6927437.0   \n",
            "\n",
            "       people_vaccinated  people_fully_vaccinated  daily_vaccinations_raw  \\\n",
            "0                    0.0                      NaN                     NaN   \n",
            "1                    NaN                      NaN                     NaN   \n",
            "2                    NaN                      NaN                     NaN   \n",
            "3                    NaN                      NaN                     NaN   \n",
            "4                    NaN                      NaN                     NaN   \n",
            "...                  ...                      ...                     ...   \n",
            "85069          2526832.0                2397677.0                  1756.0   \n",
            "85070          2527100.0                2398097.0                  2103.0   \n",
            "85071          2527184.0                2398322.0                   408.0   \n",
            "85072          2528051.0                2398676.0                  1477.0   \n",
            "85073          2528664.0                2399341.0                  2254.0   \n",
            "\n",
            "       daily_vaccinations  total_vaccinations_per_hundred  \\\n",
            "0                     NaN                            0.00   \n",
            "1                  1367.0                             NaN   \n",
            "2                  1367.0                             NaN   \n",
            "3                  1367.0                             NaN   \n",
            "4                  1367.0                             NaN   \n",
            "...                   ...                             ...   \n",
            "85069              1705.0                          218.33   \n",
            "85070              1667.0                          218.40   \n",
            "85071              1519.0                          218.41   \n",
            "85072              1505.0                          218.46   \n",
            "85073              1609.0                          218.53   \n",
            "\n",
            "       people_vaccinated_per_hundred  people_fully_vaccinated_per_hundred  \\\n",
            "0                               0.00                                  NaN   \n",
            "1                                NaN                                  NaN   \n",
            "2                                NaN                                  NaN   \n",
            "3                                NaN                                  NaN   \n",
            "4                                NaN                                  NaN   \n",
            "...                              ...                                  ...   \n",
            "85069                          79.71                                75.64   \n",
            "85070                          79.72                                75.65   \n",
            "85071                          79.72                                75.66   \n",
            "85072                          79.75                                75.67   \n",
            "85073                          79.77                                75.69   \n",
            "\n",
            "       daily_vaccinations_per_million  \\\n",
            "0                                 NaN   \n",
            "1                                34.0   \n",
            "2                                34.0   \n",
            "3                                34.0   \n",
            "4                                34.0   \n",
            "...                               ...   \n",
            "85069                           538.0   \n",
            "85070                           526.0   \n",
            "85071                           479.0   \n",
            "85072                           475.0   \n",
            "85073                           508.0   \n",
            "\n",
            "                                                vaccines  \\\n",
            "0      Johnson&Johnson, Oxford/AstraZeneca, Pfizer/Bi...   \n",
            "1      Johnson&Johnson, Oxford/AstraZeneca, Pfizer/Bi...   \n",
            "2      Johnson&Johnson, Oxford/AstraZeneca, Pfizer/Bi...   \n",
            "3      Johnson&Johnson, Oxford/AstraZeneca, Pfizer/Bi...   \n",
            "4      Johnson&Johnson, Oxford/AstraZeneca, Pfizer/Bi...   \n",
            "...                                                  ...   \n",
            "85069       Moderna, Oxford/AstraZeneca, Pfizer/BioNTech   \n",
            "85070       Moderna, Oxford/AstraZeneca, Pfizer/BioNTech   \n",
            "85071       Moderna, Oxford/AstraZeneca, Pfizer/BioNTech   \n",
            "85072       Moderna, Oxford/AstraZeneca, Pfizer/BioNTech   \n",
            "85073       Moderna, Oxford/AstraZeneca, Pfizer/BioNTech   \n",
            "\n",
            "                            source_name  \\\n",
            "0             World Health Organization   \n",
            "1             World Health Organization   \n",
            "2             World Health Organization   \n",
            "3             World Health Organization   \n",
            "4             World Health Organization   \n",
            "...                                 ...   \n",
            "85069  Government of the United Kingdom   \n",
            "85070  Government of the United Kingdom   \n",
            "85071  Government of the United Kingdom   \n",
            "85072  Government of the United Kingdom   \n",
            "85073  Government of the United Kingdom   \n",
            "\n",
            "                                          source_website  \n",
            "0                               https://covid19.who.int/  \n",
            "1                               https://covid19.who.int/  \n",
            "2                               https://covid19.who.int/  \n",
            "3                               https://covid19.who.int/  \n",
            "4                               https://covid19.who.int/  \n",
            "...                                                  ...  \n",
            "85069  https://coronavirus.data.gov.uk/details/vaccin...  \n",
            "85070  https://coronavirus.data.gov.uk/details/vaccin...  \n",
            "85071  https://coronavirus.data.gov.uk/details/vaccin...  \n",
            "85072  https://coronavirus.data.gov.uk/details/vaccin...  \n",
            "85073  https://coronavirus.data.gov.uk/details/vaccin...  \n",
            "\n",
            "[64193 rows x 15 columns]\n"
          ]
        }
      ]
    },
    {
      "cell_type": "code",
      "source": [
        "# l. Almacenar los dataframes generados (conDiferencias, conCantidad, antes20 y pfizer) en un archivo de Excel denominado resultadosReto.xlsx, donde cada dataframe ocupe una hoja diferente. Se recomienda ver la documentación de pd.ExcelWriter.\n",
        "\n",
        "with pd.ExcelWriter('content/resultadosReto.xlsx') as writer:\n",
        "    conDiferencias.to_excel(writer, sheet_name='conDiferencias', index=False)\n",
        "    conCantidad.to_excel(writer, sheet_name='conCantidad', index=False)\n",
        "    antes20.to_excel(writer, sheet_name='antes20', index=False)\n",
        "    pfizer.to_excel(writer, sheet_name='pfizer', index=False)"
      ],
      "metadata": {
        "id": "6xR2MoLSIjAr"
      },
      "execution_count": null,
      "outputs": []
    }
  ]
}